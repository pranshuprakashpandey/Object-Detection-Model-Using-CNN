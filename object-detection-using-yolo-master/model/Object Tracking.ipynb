{
 "cells": [
  {
   "cell_type": "code",
   "execution_count": null,
   "metadata": {},
   "outputs": [],
   "source": [
    "import numpy as np\n",
    "import cv2\n",
    "import sys\n",
    "\n",
    "video_path = 'data/real_time/bdd-videos-sample.mp4'\n",
    "cv2.ocl.setUseOpenCL(False)\n",
    "    \n",
    "version = cv2.__version__.split('.')[0]\n",
    "print (version) \n",
    "\n",
    "#read video file\n",
    "cap = cv2.VideoCapture(video_path)\n",
    "\n",
    "#check opencv version\n",
    "if version == '4' :\n",
    "\tfgbg = cv2.BackgroundSubtractorMOG2()\n",
    "if version == '3': \n",
    "\tfgbg = cv2.createBackgroundSubtractorMOG2()\n",
    "\t\n",
    "\n",
    "while (cap.isOpened):\n",
    "\n",
    "\t#if ret is true than no error with cap.isOpened\n",
    "\tret, frame = cap.read()\n",
    "\t\n",
    "\tif ret==True:\n",
    "\n",
    "\t\t#apply background substraction\n",
    "\t\tfgmask = fgbg.apply(frame)\n",
    "\t\t\t\t\t\n",
    "\t\t#check opencv version\n",
    "\t\tif version == '4' : \n",
    "\t\t\t(contours, hierarchy) = cv2.findContours(fgmask.copy(), cv2.RETR_EXTERNAL,cv2.CHAIN_APPROX_SIMPLE)\n",
    "\t\tif version == '3' : \n",
    "\t\t\t(im2, contours, hierarchy) = cv2.findContours(fgmask.copy(), cv2.RETR_EXTERNAL,cv2.CHAIN_APPROX_SIMPLE)\n",
    "\t\t\n",
    "\t\t#looping for contours\n",
    "\t\tfor c in contours:\n",
    "\t\t\tif cv2.contourArea(c) < 500:\n",
    "\t\t\t\tcontinue\n",
    "\t\t\t\t\n",
    "\t\t\t#get bounding box from countour\n",
    "\t\t\t(x, y, w, h) = cv2.boundingRect(c)\n",
    "\t\t\t\n",
    "\t\t\t#draw bounding box\n",
    "\t\t\tcv2.rectangle(frame, (x, y), (x + w, y + h), (0, 255, 0), 2)\n",
    "\t\t\t\n",
    "\t\tcv2.imshow('foreground and background',fgmask)\n",
    "\t\tcv2.imshow('rgb',frame)\n",
    "\t\tif cv2.waitKey(1) & 0xFF == ord(\"q\"):\n",
    "\t\t\tbreak\n",
    "\n",
    "\n",
    "cap.release()\n",
    "cv2.destroyAllWindows()"
   ]
  },
  {
   "cell_type": "code",
   "execution_count": null,
   "metadata": {},
   "outputs": [],
   "source": [
    "cv2.__version__"
   ]
  },
  {
   "cell_type": "code",
   "execution_count": null,
   "metadata": {},
   "outputs": [],
   "source": []
  },
  {
   "cell_type": "code",
   "execution_count": null,
   "metadata": {},
   "outputs": [],
   "source": []
  },
  {
   "cell_type": "code",
   "execution_count": null,
   "metadata": {},
   "outputs": [],
   "source": []
  },
  {
   "cell_type": "code",
   "execution_count": null,
   "metadata": {},
   "outputs": [],
   "source": []
  },
  {
   "cell_type": "code",
   "execution_count": null,
   "metadata": {},
   "outputs": [],
   "source": []
  }
 ],
 "metadata": {
  "kernelspec": {
   "display_name": "Python 3",
   "language": "python",
   "name": "python3"
  },
  "language_info": {
   "codemirror_mode": {
    "name": "ipython",
    "version": 3
   },
   "file_extension": ".py",
   "mimetype": "text/x-python",
   "name": "python",
   "nbconvert_exporter": "python",
   "pygments_lexer": "ipython3",
   "version": "3.7.3"
  }
 },
 "nbformat": 4,
 "nbformat_minor": 2
}
