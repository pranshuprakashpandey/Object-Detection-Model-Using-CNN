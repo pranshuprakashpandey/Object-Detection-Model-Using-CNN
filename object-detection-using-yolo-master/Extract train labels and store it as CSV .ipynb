{
 "cells": [
  {
   "cell_type": "code",
   "execution_count": 1,
   "metadata": {},
   "outputs": [],
   "source": [
    "## Importing libraries\n",
    "import numpy as np \n",
    "from PIL import Image\n",
    "import cv2\n",
    "from glob import glob\n",
    "import matplotlib.pyplot as plt\n",
    "%matplotlib inline\n",
    "import json\n",
    "import pandas as pd\n",
    "from tqdm import tqdm_notebook"
   ]
  },
  {
   "cell_type": "code",
   "execution_count": 2,
   "metadata": {},
   "outputs": [],
   "source": [
    "# File path for training data\n",
    "file_path = glob('berk_data/images/100k/train/*')"
   ]
  },
  {
   "cell_type": "code",
   "execution_count": 3,
   "metadata": {},
   "outputs": [
    {
     "data": {
      "text/plain": [
       "'berk_data/images/100k/train\\\\0000f77c-6257be58.jpg'"
      ]
     },
     "execution_count": 3,
     "metadata": {},
     "output_type": "execute_result"
    }
   ],
   "source": [
    "file_path[0]"
   ]
  },
  {
   "cell_type": "code",
   "execution_count": 4,
   "metadata": {},
   "outputs": [],
   "source": [
    "# Opeining image from the train image data\n",
    "img = Image.open(file_path[0])"
   ]
  },
  {
   "cell_type": "code",
   "execution_count": 5,
   "metadata": {},
   "outputs": [],
   "source": [
    "img_data = plt.imread(file_path[0])"
   ]
  },
  {
   "cell_type": "code",
   "execution_count": 6,
   "metadata": {},
   "outputs": [
    {
     "data": {
      "text/plain": [
       "(720, 1280, 3)"
      ]
     },
     "execution_count": 6,
     "metadata": {},
     "output_type": "execute_result"
    }
   ],
   "source": [
    "img_data.shape"
   ]
  },
  {
   "cell_type": "code",
   "execution_count": 7,
   "metadata": {},
   "outputs": [],
   "source": [
    "# Number of classes\n",
    "classes = open('berk_data/New Text Document.txt')\n",
    "classes = classes.readlines()[0].split()\n",
    "#classes.extend(['traffic light', 'traffic sign'])"
   ]
  },
  {
   "cell_type": "code",
   "execution_count": 8,
   "metadata": {},
   "outputs": [],
   "source": [
    "# Creating a dictionary to store image file name, class in image, bounding box coordinates\n",
    "labels_csv = dict()\n",
    "labels_csv['file'] = []\n",
    "labels_csv['class'] = []\n",
    "labels_csv['x_min'] = []\n",
    "labels_csv['y_min'] = []\n",
    "labels_csv['x_max'] = []\n",
    "labels_csv['y_max'] = []"
   ]
  },
  {
   "cell_type": "code",
   "execution_count": 14,
   "metadata": {},
   "outputs": [],
   "source": [
    "def extract_labels(file_name, obj):\n",
    "    \"\"\"\n",
    "    Store the labels to a csv file\n",
    "    \"\"\"\n",
    "    category = obj['category']\n",
    "    if category in classes:\n",
    "        bbox = obj['box2d']\n",
    "        file_name += '.jpg'\n",
    "        labels_csv['file'].append(file_name)\n",
    "        labels_csv['class'].append(category)\n",
    "        labels_csv['x_min'].append(bbox['x1'])\n",
    "        labels_csv['y_min'].append(bbox['y1'])\n",
    "        labels_csv['x_max'].append(bbox['x2'])\n",
    "        labels_csv['y_max'].append(bbox['y2'])\n",
    "    return category"
   ]
  },
  {
   "cell_type": "code",
   "execution_count": null,
   "metadata": {},
   "outputs": [],
   "source": [
    "def extract_labels_1D(file_name, obj):\n",
    "    \"\"\"\n",
    "    Store the labels to a csv file\n",
    "    \"\"\"\n",
    "    category = obj['category']\n",
    "    if category in classes:\n",
    "        bbox = obj['box2d']\n",
    "        file_name += '.jpg'\n",
    "        labels_csv['file'].append(file_name)\n",
    "        labels_csv['class'].append(category)\n",
    "        labels_csv['x_min'].append(bbox['x1'])\n",
    "        labels_csv['y_min'].append(bbox['y1'])\n",
    "        labels_csv['x_max'].append(bbox['x2'])\n",
    "        labels_csv['y_max'].append(bbox['y2'])\n",
    "    return category"
   ]
  },
  {
   "cell_type": "code",
   "execution_count": 15,
   "metadata": {},
   "outputs": [],
   "source": [
    "def convert_labels(label_path):\n",
    "    # Extracting labels from json file and storing it as an csv file\n",
    "    ct = 0\n",
    "    print('Conversion Started.......')\n",
    "    for jlb in tqdm_notebook(label_path):\n",
    "        with open(jlb) as f:\n",
    "            ct += 1 \n",
    "            json_file = json.load(f)\n",
    "            fn = json_file['name']\n",
    "            for obj in json_file['frames'][0]['objects']:\n",
    "                cat = extract_labels(fn, obj)\n",
    "             #   print(cat)\n",
    "    df = pd.DataFrame(labels_csv)\n",
    "    df.to_csv('berk_data/labels.csv', index=False)\n",
    "    print('Conversion done.')\n",
    "    print('Total files stored: ',ct)"
   ]
  },
  {
   "cell_type": "code",
   "execution_count": 16,
   "metadata": {},
   "outputs": [],
   "source": [
    "jlabels = glob('berk_data/labels/100k/train/*.json')"
   ]
  },
  {
   "cell_type": "code",
   "execution_count": 17,
   "metadata": {},
   "outputs": [
    {
     "name": "stdout",
     "output_type": "stream",
     "text": [
      "Conversion Started.......\n"
     ]
    },
    {
     "data": {
      "application/vnd.jupyter.widget-view+json": {
       "model_id": "8832c302cd8d404f88b0581f86b9eb78",
       "version_major": 2,
       "version_minor": 0
      },
      "text/plain": [
       "HBox(children=(IntProgress(value=0, max=69998), HTML(value='')))"
      ]
     },
     "metadata": {},
     "output_type": "display_data"
    },
    {
     "name": "stdout",
     "output_type": "stream",
     "text": [
      "\n",
      "Conversion done.\n",
      "Total files stored:  69998\n"
     ]
    }
   ],
   "source": [
    "convert_labels(jlabels)"
   ]
  }
 ],
 "metadata": {
  "kernelspec": {
   "display_name": "Python 3",
   "language": "python",
   "name": "python3"
  },
  "language_info": {
   "codemirror_mode": {
    "name": "ipython",
    "version": 3
   },
   "file_extension": ".py",
   "mimetype": "text/x-python",
   "name": "python",
   "nbconvert_exporter": "python",
   "pygments_lexer": "ipython3",
   "version": "3.6.5"
  }
 },
 "nbformat": 4,
 "nbformat_minor": 2
}
